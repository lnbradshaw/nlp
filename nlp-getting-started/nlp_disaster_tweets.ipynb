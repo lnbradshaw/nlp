{
 "cells": [
  {
   "cell_type": "code",
   "execution_count": 1,
   "id": "881f4b82",
   "metadata": {},
   "outputs": [
    {
     "name": "stdout",
     "output_type": "stream",
     "text": [
      "Init Plugin\n",
      "Init Graph Optimizer\n",
      "Init Kernel\n"
     ]
    }
   ],
   "source": [
    "import numpy as np\n",
    "import matplotlib.pyplot as plt\n",
    "import pandas as pd\n",
    "import tensorflow as tf\n",
    "import sklearn\n",
    "\n",
    "plt.rcParams.update({'font.family':'cmr10', 'font.size': 12})\n",
    "plt.rcParams['axes.unicode_minus'] = False\n",
    "plt.rcParams['axes.labelsize'] = 12\n",
    "plt.rcParams['figure.dpi'] = 80\n",
    "plt.rcParams['mathtext.fontset'] = 'cm'\n",
    "plt.rcParams['mathtext.rm'] = 'serif'\n",
    "plt.rcParams['xtick.direction'] = 'in'\n",
    "plt.rcParams['ytick.direction'] = 'in'\n",
    "plt.rcParams['xtick.top'] = True\n",
    "plt.rcParams['ytick.right'] = True\n",
    "plt.rcParams['axes.formatter.use_mathtext'] = True\n",
    "\n",
    "%matplotlib inline"
   ]
  },
  {
   "cell_type": "code",
   "execution_count": 2,
   "id": "12941ea9",
   "metadata": {},
   "outputs": [
    {
     "data": {
      "text/html": [
       "<div>\n",
       "<style scoped>\n",
       "    .dataframe tbody tr th:only-of-type {\n",
       "        vertical-align: middle;\n",
       "    }\n",
       "\n",
       "    .dataframe tbody tr th {\n",
       "        vertical-align: top;\n",
       "    }\n",
       "\n",
       "    .dataframe thead th {\n",
       "        text-align: right;\n",
       "    }\n",
       "</style>\n",
       "<table border=\"1\" class=\"dataframe\">\n",
       "  <thead>\n",
       "    <tr style=\"text-align: right;\">\n",
       "      <th></th>\n",
       "      <th>id</th>\n",
       "      <th>keyword</th>\n",
       "      <th>location</th>\n",
       "      <th>text</th>\n",
       "      <th>target</th>\n",
       "    </tr>\n",
       "  </thead>\n",
       "  <tbody>\n",
       "    <tr>\n",
       "      <th>0</th>\n",
       "      <td>1</td>\n",
       "      <td>NaN</td>\n",
       "      <td>NaN</td>\n",
       "      <td>Our Deeds are the Reason of this #earthquake M...</td>\n",
       "      <td>1</td>\n",
       "    </tr>\n",
       "    <tr>\n",
       "      <th>1</th>\n",
       "      <td>4</td>\n",
       "      <td>NaN</td>\n",
       "      <td>NaN</td>\n",
       "      <td>Forest fire near La Ronge Sask. Canada</td>\n",
       "      <td>1</td>\n",
       "    </tr>\n",
       "    <tr>\n",
       "      <th>2</th>\n",
       "      <td>5</td>\n",
       "      <td>NaN</td>\n",
       "      <td>NaN</td>\n",
       "      <td>All residents asked to 'shelter in place' are ...</td>\n",
       "      <td>1</td>\n",
       "    </tr>\n",
       "    <tr>\n",
       "      <th>3</th>\n",
       "      <td>6</td>\n",
       "      <td>NaN</td>\n",
       "      <td>NaN</td>\n",
       "      <td>13,000 people receive #wildfires evacuation or...</td>\n",
       "      <td>1</td>\n",
       "    </tr>\n",
       "    <tr>\n",
       "      <th>4</th>\n",
       "      <td>7</td>\n",
       "      <td>NaN</td>\n",
       "      <td>NaN</td>\n",
       "      <td>Just got sent this photo from Ruby #Alaska as ...</td>\n",
       "      <td>1</td>\n",
       "    </tr>\n",
       "  </tbody>\n",
       "</table>\n",
       "</div>"
      ],
      "text/plain": [
       "   id keyword location                                               text  \\\n",
       "0   1     NaN      NaN  Our Deeds are the Reason of this #earthquake M...   \n",
       "1   4     NaN      NaN             Forest fire near La Ronge Sask. Canada   \n",
       "2   5     NaN      NaN  All residents asked to 'shelter in place' are ...   \n",
       "3   6     NaN      NaN  13,000 people receive #wildfires evacuation or...   \n",
       "4   7     NaN      NaN  Just got sent this photo from Ruby #Alaska as ...   \n",
       "\n",
       "   target  \n",
       "0       1  \n",
       "1       1  \n",
       "2       1  \n",
       "3       1  \n",
       "4       1  "
      ]
     },
     "execution_count": 2,
     "metadata": {},
     "output_type": "execute_result"
    }
   ],
   "source": [
    "# load in training and testing dataframes\n",
    "\n",
    "train_df = pd.read_csv('train.csv')\n",
    "test_df = pd.read_csv('test.csv')\n",
    "\n",
    "train_df.head()"
   ]
  },
  {
   "cell_type": "code",
   "execution_count": 3,
   "id": "719d6ed4",
   "metadata": {},
   "outputs": [
    {
     "name": "stdout",
     "output_type": "stream",
     "text": [
      "True\n",
      "True\n"
     ]
    }
   ],
   "source": [
    "# quick test to see if any tweets have location data or keywords\n",
    "\n",
    "print(train_df[\"keyword\"].shape[0]==train_df[\"keyword\"].isna().shape[0])\n",
    "print(train_df[\"location\"].shape[0]==train_df[\"location\"].isna().shape[0])"
   ]
  },
  {
   "cell_type": "markdown",
   "id": "54fd250a",
   "metadata": {},
   "source": [
    "It looks like our dataset only contains the text and corresponding label, let's peel those out and try a supervised and unsupervised approach to see how they compare! \n",
    "\n",
    "### But first, let's do some EDA to see if there's any interesting patterns we can find. "
   ]
  },
  {
   "cell_type": "code",
   "execution_count": 4,
   "id": "b3488a51",
   "metadata": {},
   "outputs": [
    {
     "data": {
      "image/png": "[encoded data removed]",
      "text/plain": [
       "<Figure size 288x288 with 1 Axes>"
      ]
     },
     "metadata": {
      "needs_background": "light"
     },
     "output_type": "display_data"
    }
   ],
   "source": [
    "# do tweets about disasters tend to be longer than tweets that arent?\n",
    "\n",
    "fig, ax = plt.subplots(1,1,figsize=(4,4))\n",
    "\n",
    "bins = np.linspace(min(train_df[\"text\"].str.len()), max(train_df[\"text\"].str.len()), 26)\n",
    "\n",
    "ax.scatter([],[],color='tab:blue',label='Disaster')\n",
    "ax.scatter([],[],color='tab:orange', label='Non-disaster')\n",
    "\n",
    "ax.hist(train_df[train_df[\"target\"]==1][\"text\"].str.len(), bins=bins, histtype='stepfilled', density=False,\n",
    "        color='tab:blue',alpha=0.5)\n",
    "ax.hist(train_df[train_df[\"target\"]==0][\"text\"].str.len(), bins=bins, histtype='stepfilled', density=False, \n",
    "        color=\"tab:orange\",alpha=0.5)\n",
    "\n",
    "ax.hist(train_df[train_df[\"target\"]==1][\"text\"].str.len(), bins=bins, histtype='step', density=False, \n",
    "        color='tab:blue')\n",
    "ax.hist(train_df[train_df[\"target\"]==0][\"text\"].str.len(), bins=bins, histtype='step', density=False, \n",
    "        color=\"tab:orange\")\n",
    "\n",
    "ax.legend(loc='upper left', fontsize='large')\n",
    "\n",
    "ax.set_xlabel('Tweet Length')\n",
    "ax.set_ylabel('Frequency');"
   ]
  },
  {
   "cell_type": "markdown",
   "id": "5b2a7179",
   "metadata": {},
   "source": [
    "Looks like there may be some small correlation between tweet length and whether or not it's about a disaster, but obviously the content of the tweet will matter much more. \n",
    "\n",
    "People tend to use hashtags to increase the reach of their post, which would be useful to let people know about natural disasters. Is there a correlation between the presence of/number of hashtags in a post, the length of a post, and whether or not the tweet is a bout a disaster?"
   ]
  },
  {
   "cell_type": "code",
   "execution_count": 5,
   "id": "52537926",
   "metadata": {},
   "outputs": [
    {
     "data": {
      "image/png": "[encoded data removed]",
      "text/plain": [
       "<Figure size 288x288 with 1 Axes>"
      ]
     },
     "metadata": {
      "needs_background": "light"
     },
     "output_type": "display_data"
    }
   ],
   "source": [
    "fig, ax = plt.subplots(1,1,figsize=(4,4),constrained_layout=True)\n",
    "\n",
    "ax.scatter(train_df[train_df[\"target\"]==1][\"text\"].str.len(),\n",
    "           train_df[train_df[\"target\"]==1][\"text\"].str.count('\\\\#'),\n",
    "           color='tab:blue', alpha=0.5)\n",
    "\n",
    "ax.scatter(train_df[train_df[\"target\"]==0][\"text\"].str.len(),\n",
    "           train_df[train_df[\"target\"]==0][\"text\"].str.count('\\\\#'),\n",
    "           color='tab:orange', alpha=0.5)\n",
    "\n",
    "ax.scatter([], [], color='tab:blue', label='Disaster')\n",
    "ax.scatter([], [], color='tab:orange', label='Non-disaster')\n",
    "\n",
    "\n",
    "ax.set_xlabel('Tweet length')\n",
    "ax.set_ylabel('Number of hastags')\n",
    "ax.legend(loc='upper left', fontsize='large');"
   ]
  },
  {
   "cell_type": "markdown",
   "id": "deceeb6c",
   "metadata": {},
   "source": [
    "It looks like the number of hashtags a post contains is not a good discriminant of whether or not a tweet is about a disaster. \n",
    "\n",
    "To get a better sense of the data, let's look at a wordcloud for the training set, separated by classes, using `NLTK` and `wordcloud`. "
   ]
  },
  {
   "cell_type": "code",
   "execution_count": 6,
   "id": "f7c50ef1",
   "metadata": {},
   "outputs": [],
   "source": [
    "import nltk\n",
    "import re\n",
    "#nltk.download('punkt')\n",
    "#nltk.download('averaged_perceptron_tagger')\n",
    "#nltk.download('wordnet')\n",
    "#nltk.download('stopwords')\n",
    "import string\n",
    "import contractions\n",
    "from wordcloud import WordCloud, STOPWORDS\n",
    "from nltk.corpus import stopwords"
   ]
  },
  {
   "cell_type": "code",
   "execution_count": 7,
   "id": "3bfbde6c",
   "metadata": {},
   "outputs": [
    {
     "data": {
      "text/html": [
       "<div>\n",
       "<style scoped>\n",
       "    .dataframe tbody tr th:only-of-type {\n",
       "        vertical-align: middle;\n",
       "    }\n",
       "\n",
       "    .dataframe tbody tr th {\n",
       "        vertical-align: top;\n",
       "    }\n",
       "\n",
       "    .dataframe thead th {\n",
       "        text-align: right;\n",
       "    }\n",
       "</style>\n",
       "<table border=\"1\" class=\"dataframe\">\n",
       "  <thead>\n",
       "    <tr style=\"text-align: right;\">\n",
       "      <th></th>\n",
       "      <th>id</th>\n",
       "      <th>keyword</th>\n",
       "      <th>location</th>\n",
       "      <th>text</th>\n",
       "      <th>target</th>\n",
       "      <th>cleaned</th>\n",
       "    </tr>\n",
       "  </thead>\n",
       "  <tbody>\n",
       "    <tr>\n",
       "      <th>0</th>\n",
       "      <td>1</td>\n",
       "      <td>NaN</td>\n",
       "      <td>NaN</td>\n",
       "      <td>Our Deeds are the Reason of this #earthquake M...</td>\n",
       "      <td>1</td>\n",
       "      <td>deeds reason earthquake may allah forgive us</td>\n",
       "    </tr>\n",
       "    <tr>\n",
       "      <th>1</th>\n",
       "      <td>4</td>\n",
       "      <td>NaN</td>\n",
       "      <td>NaN</td>\n",
       "      <td>Forest fire near La Ronge Sask. Canada</td>\n",
       "      <td>1</td>\n",
       "      <td>forest fire near la ronge sask canada</td>\n",
       "    </tr>\n",
       "    <tr>\n",
       "      <th>2</th>\n",
       "      <td>5</td>\n",
       "      <td>NaN</td>\n",
       "      <td>NaN</td>\n",
       "      <td>All residents asked to 'shelter in place' are ...</td>\n",
       "      <td>1</td>\n",
       "      <td>residents asked shelter place notified officer...</td>\n",
       "    </tr>\n",
       "    <tr>\n",
       "      <th>3</th>\n",
       "      <td>6</td>\n",
       "      <td>NaN</td>\n",
       "      <td>NaN</td>\n",
       "      <td>13,000 people receive #wildfires evacuation or...</td>\n",
       "      <td>1</td>\n",
       "      <td>13000 people receive wildfires evacuation orde...</td>\n",
       "    </tr>\n",
       "    <tr>\n",
       "      <th>4</th>\n",
       "      <td>7</td>\n",
       "      <td>NaN</td>\n",
       "      <td>NaN</td>\n",
       "      <td>Just got sent this photo from Ruby #Alaska as ...</td>\n",
       "      <td>1</td>\n",
       "      <td>got sent photo ruby alaska smoke wildfires pou...</td>\n",
       "    </tr>\n",
       "  </tbody>\n",
       "</table>\n",
       "</div>"
      ],
      "text/plain": [
       "   id keyword location                                               text  \\\n",
       "0   1     NaN      NaN  Our Deeds are the Reason of this #earthquake M...   \n",
       "1   4     NaN      NaN             Forest fire near La Ronge Sask. Canada   \n",
       "2   5     NaN      NaN  All residents asked to 'shelter in place' are ...   \n",
       "3   6     NaN      NaN  13,000 people receive #wildfires evacuation or...   \n",
       "4   7     NaN      NaN  Just got sent this photo from Ruby #Alaska as ...   \n",
       "\n",
       "   target                                            cleaned  \n",
       "0       1       deeds reason earthquake may allah forgive us  \n",
       "1       1              forest fire near la ronge sask canada  \n",
       "2       1  residents asked shelter place notified officer...  \n",
       "3       1  13000 people receive wildfires evacuation orde...  \n",
       "4       1  got sent photo ruby alaska smoke wildfires pou...  "
      ]
     },
     "execution_count": 7,
     "metadata": {},
     "output_type": "execute_result"
    }
   ],
   "source": [
    "# let's clean the data; make all text lowercase, remove stopwords, etc. \n",
    "\n",
    "def clean(tweet):\n",
    "    tweet = tweet.lower()\n",
    "    tweet = re.sub('[^a-z A-Z 0-9-]+', '', tweet)\n",
    "    tweet = \" \".join([word for word in tweet.split() if word not in stopwords.words('english')])\n",
    "    \n",
    "    return tweet\n",
    "    \n",
    "train_df[\"cleaned\"] = train_df[\"text\"].apply(clean)\n",
    "train_df.head()"
   ]
  },
  {
   "cell_type": "code",
   "execution_count": 8,
   "id": "2d32f974",
   "metadata": {},
   "outputs": [
    {
     "data": {
      "text/html": [
       "<div>\n",
       "<style scoped>\n",
       "    .dataframe tbody tr th:only-of-type {\n",
       "        vertical-align: middle;\n",
       "    }\n",
       "\n",
       "    .dataframe tbody tr th {\n",
       "        vertical-align: top;\n",
       "    }\n",
       "\n",
       "    .dataframe thead th {\n",
       "        text-align: right;\n",
       "    }\n",
       "</style>\n",
       "<table border=\"1\" class=\"dataframe\">\n",
       "  <thead>\n",
       "    <tr style=\"text-align: right;\">\n",
       "      <th></th>\n",
       "      <th>id</th>\n",
       "      <th>keyword</th>\n",
       "      <th>location</th>\n",
       "      <th>text</th>\n",
       "      <th>target</th>\n",
       "      <th>cleaned</th>\n",
       "      <th>tokenized</th>\n",
       "    </tr>\n",
       "  </thead>\n",
       "  <tbody>\n",
       "    <tr>\n",
       "      <th>0</th>\n",
       "      <td>1</td>\n",
       "      <td>NaN</td>\n",
       "      <td>NaN</td>\n",
       "      <td>Our Deeds are the Reason of this #earthquake M...</td>\n",
       "      <td>1</td>\n",
       "      <td>deeds reason earthquake may allah forgive us</td>\n",
       "      <td>[deeds, reason, earthquake, may, allah, forgiv...</td>\n",
       "    </tr>\n",
       "    <tr>\n",
       "      <th>1</th>\n",
       "      <td>4</td>\n",
       "      <td>NaN</td>\n",
       "      <td>NaN</td>\n",
       "      <td>Forest fire near La Ronge Sask. Canada</td>\n",
       "      <td>1</td>\n",
       "      <td>forest fire near la ronge sask canada</td>\n",
       "      <td>[forest, fire, near, la, ronge, sask, canada]</td>\n",
       "    </tr>\n",
       "    <tr>\n",
       "      <th>2</th>\n",
       "      <td>5</td>\n",
       "      <td>NaN</td>\n",
       "      <td>NaN</td>\n",
       "      <td>All residents asked to 'shelter in place' are ...</td>\n",
       "      <td>1</td>\n",
       "      <td>residents asked shelter place notified officer...</td>\n",
       "      <td>[residents, asked, shelter, place, notified, o...</td>\n",
       "    </tr>\n",
       "    <tr>\n",
       "      <th>3</th>\n",
       "      <td>6</td>\n",
       "      <td>NaN</td>\n",
       "      <td>NaN</td>\n",
       "      <td>13,000 people receive #wildfires evacuation or...</td>\n",
       "      <td>1</td>\n",
       "      <td>13000 people receive wildfires evacuation orde...</td>\n",
       "      <td>[13000, people, receive, wildfires, evacuation...</td>\n",
       "    </tr>\n",
       "    <tr>\n",
       "      <th>4</th>\n",
       "      <td>7</td>\n",
       "      <td>NaN</td>\n",
       "      <td>NaN</td>\n",
       "      <td>Just got sent this photo from Ruby #Alaska as ...</td>\n",
       "      <td>1</td>\n",
       "      <td>got sent photo ruby alaska smoke wildfires pou...</td>\n",
       "      <td>[got, sent, photo, ruby, alaska, smoke, wildfi...</td>\n",
       "    </tr>\n",
       "  </tbody>\n",
       "</table>\n",
       "</div>"
      ],
      "text/plain": [
       "   id keyword location                                               text  \\\n",
       "0   1     NaN      NaN  Our Deeds are the Reason of this #earthquake M...   \n",
       "1   4     NaN      NaN             Forest fire near La Ronge Sask. Canada   \n",
       "2   5     NaN      NaN  All residents asked to 'shelter in place' are ...   \n",
       "3   6     NaN      NaN  13,000 people receive #wildfires evacuation or...   \n",
       "4   7     NaN      NaN  Just got sent this photo from Ruby #Alaska as ...   \n",
       "\n",
       "   target                                            cleaned  \\\n",
       "0       1       deeds reason earthquake may allah forgive us   \n",
       "1       1              forest fire near la ronge sask canada   \n",
       "2       1  residents asked shelter place notified officer...   \n",
       "3       1  13000 people receive wildfires evacuation orde...   \n",
       "4       1  got sent photo ruby alaska smoke wildfires pou...   \n",
       "\n",
       "                                           tokenized  \n",
       "0  [deeds, reason, earthquake, may, allah, forgiv...  \n",
       "1      [forest, fire, near, la, ronge, sask, canada]  \n",
       "2  [residents, asked, shelter, place, notified, o...  \n",
       "3  [13000, people, receive, wildfires, evacuation...  \n",
       "4  [got, sent, photo, ruby, alaska, smoke, wildfi...  "
      ]
     },
     "execution_count": 8,
     "metadata": {},
     "output_type": "execute_result"
    }
   ],
   "source": [
    "# tokenize the text so we can get a frequency count\n",
    "\n",
    "def token(text):\n",
    "    tokenized = text.split()\n",
    "    return tokenized\n",
    "\n",
    "train_df[\"tokenized\"] = train_df[\"cleaned\"].apply(token)\n",
    "train_df.head()"
   ]
  },
  {
   "cell_type": "code",
   "execution_count": 9,
   "id": "3b0eee43",
   "metadata": {},
   "outputs": [
    {
     "data": {
      "text/html": [
       "<div>\n",
       "<style scoped>\n",
       "    .dataframe tbody tr th:only-of-type {\n",
       "        vertical-align: middle;\n",
       "    }\n",
       "\n",
       "    .dataframe tbody tr th {\n",
       "        vertical-align: top;\n",
       "    }\n",
       "\n",
       "    .dataframe thead th {\n",
       "        text-align: right;\n",
       "    }\n",
       "</style>\n",
       "<table border=\"1\" class=\"dataframe\">\n",
       "  <thead>\n",
       "    <tr style=\"text-align: right;\">\n",
       "      <th></th>\n",
       "      <th>id</th>\n",
       "      <th>keyword</th>\n",
       "      <th>location</th>\n",
       "      <th>text</th>\n",
       "      <th>target</th>\n",
       "      <th>cleaned</th>\n",
       "      <th>tokenized</th>\n",
       "      <th>no_punc</th>\n",
       "    </tr>\n",
       "  </thead>\n",
       "  <tbody>\n",
       "    <tr>\n",
       "      <th>0</th>\n",
       "      <td>1</td>\n",
       "      <td>NaN</td>\n",
       "      <td>NaN</td>\n",
       "      <td>Our Deeds are the Reason of this #earthquake M...</td>\n",
       "      <td>1</td>\n",
       "      <td>deeds reason earthquake may allah forgive us</td>\n",
       "      <td>[deeds, reason, earthquake, may, allah, forgiv...</td>\n",
       "      <td>[deeds, reason, earthquake, may, allah, forgiv...</td>\n",
       "    </tr>\n",
       "    <tr>\n",
       "      <th>1</th>\n",
       "      <td>4</td>\n",
       "      <td>NaN</td>\n",
       "      <td>NaN</td>\n",
       "      <td>Forest fire near La Ronge Sask. Canada</td>\n",
       "      <td>1</td>\n",
       "      <td>forest fire near la ronge sask canada</td>\n",
       "      <td>[forest, fire, near, la, ronge, sask, canada]</td>\n",
       "      <td>[forest, fire, near, la, ronge, sask, canada]</td>\n",
       "    </tr>\n",
       "    <tr>\n",
       "      <th>2</th>\n",
       "      <td>5</td>\n",
       "      <td>NaN</td>\n",
       "      <td>NaN</td>\n",
       "      <td>All residents asked to 'shelter in place' are ...</td>\n",
       "      <td>1</td>\n",
       "      <td>residents asked shelter place notified officer...</td>\n",
       "      <td>[residents, asked, shelter, place, notified, o...</td>\n",
       "      <td>[residents, asked, shelter, place, notified, o...</td>\n",
       "    </tr>\n",
       "    <tr>\n",
       "      <th>3</th>\n",
       "      <td>6</td>\n",
       "      <td>NaN</td>\n",
       "      <td>NaN</td>\n",
       "      <td>13,000 people receive #wildfires evacuation or...</td>\n",
       "      <td>1</td>\n",
       "      <td>13000 people receive wildfires evacuation orde...</td>\n",
       "      <td>[13000, people, receive, wildfires, evacuation...</td>\n",
       "      <td>[13000, people, receive, wildfires, evacuation...</td>\n",
       "    </tr>\n",
       "    <tr>\n",
       "      <th>4</th>\n",
       "      <td>7</td>\n",
       "      <td>NaN</td>\n",
       "      <td>NaN</td>\n",
       "      <td>Just got sent this photo from Ruby #Alaska as ...</td>\n",
       "      <td>1</td>\n",
       "      <td>got sent photo ruby alaska smoke wildfires pou...</td>\n",
       "      <td>[got, sent, photo, ruby, alaska, smoke, wildfi...</td>\n",
       "      <td>[got, sent, photo, ruby, alaska, smoke, wildfi...</td>\n",
       "    </tr>\n",
       "  </tbody>\n",
       "</table>\n",
       "</div>"
      ],
      "text/plain": [
       "   id keyword location                                               text  \\\n",
       "0   1     NaN      NaN  Our Deeds are the Reason of this #earthquake M...   \n",
       "1   4     NaN      NaN             Forest fire near La Ronge Sask. Canada   \n",
       "2   5     NaN      NaN  All residents asked to 'shelter in place' are ...   \n",
       "3   6     NaN      NaN  13,000 people receive #wildfires evacuation or...   \n",
       "4   7     NaN      NaN  Just got sent this photo from Ruby #Alaska as ...   \n",
       "\n",
       "   target                                            cleaned  \\\n",
       "0       1       deeds reason earthquake may allah forgive us   \n",
       "1       1              forest fire near la ronge sask canada   \n",
       "2       1  residents asked shelter place notified officer...   \n",
       "3       1  13000 people receive wildfires evacuation orde...   \n",
       "4       1  got sent photo ruby alaska smoke wildfires pou...   \n",
       "\n",
       "                                           tokenized  \\\n",
       "0  [deeds, reason, earthquake, may, allah, forgiv...   \n",
       "1      [forest, fire, near, la, ronge, sask, canada]   \n",
       "2  [residents, asked, shelter, place, notified, o...   \n",
       "3  [13000, people, receive, wildfires, evacuation...   \n",
       "4  [got, sent, photo, ruby, alaska, smoke, wildfi...   \n",
       "\n",
       "                                             no_punc  \n",
       "0  [deeds, reason, earthquake, may, allah, forgiv...  \n",
       "1      [forest, fire, near, la, ronge, sask, canada]  \n",
       "2  [residents, asked, shelter, place, notified, o...  \n",
       "3  [13000, people, receive, wildfires, evacuation...  \n",
       "4  [got, sent, photo, ruby, alaska, smoke, wildfi...  "
      ]
     },
     "execution_count": 9,
     "metadata": {},
     "output_type": "execute_result"
    }
   ],
   "source": [
    "train_df[\"no_punc\"] = train_df[\"tokenized\"].apply(lambda x: [word for word in x if word not in string.punctuation])\n",
    "train_df.head()"
   ]
  },
  {
   "cell_type": "markdown",
   "id": "e0a7c101",
   "metadata": {},
   "source": [
    "`NLTK`, `contractions` and `string` provide a lot of powerful preprocessing tools. Let's make use of them to try and tease out the truly relevant parts of our dataset!"
   ]
  },
  {
   "cell_type": "markdown",
   "id": "734043be",
   "metadata": {},
   "source": [
    "Now that we have our cleaned and tokenized text, we can make a frequency distribution for all of our data, as well as each class"
   ]
  },
  {
   "cell_type": "code",
   "execution_count": 10,
   "id": "4012659f",
   "metadata": {},
   "outputs": [
    {
     "name": "stdout",
     "output_type": "stream",
     "text": [
      "75707\n"
     ]
    }
   ],
   "source": [
    "# start by putting all of our tokenized data into a single string\n",
    "\n",
    "allwords = []\n",
    "\n",
    "for i in range(train_df.shape[0]):\n",
    "    allwords += train_df[\"no_punc\"][i]\n",
    "    \n",
    "print(len(allwords))\n",
    "#print(allwords)"
   ]
  },
  {
   "cell_type": "code",
   "execution_count": 11,
   "id": "b453406f",
   "metadata": {},
   "outputs": [
    {
     "name": "stdout",
     "output_type": "stream",
     "text": [
      "[('like', 344), ('im', 302), ('amp', 298), ('fire', 249), ('get', 228), ('new', 226), ('via', 220), ('dont', 206), ('people', 196), ('one', 191), ('news', 187), ('video', 164), ('us', 161), ('2', 158), ('emergency', 156), ('disaster', 151), ('police', 140), ('would', 129), ('still', 128), ('body', 125)]\n"
     ]
    }
   ],
   "source": [
    "# lets get a count of the 20 most frequent words neglecting tweet class\n",
    "\n",
    "from collections import Counter\n",
    "\n",
    "most_freq = Counter(allwords).most_common(20)\n",
    "print(most_freq)"
   ]
  },
  {
   "cell_type": "code",
   "execution_count": 12,
   "id": "6ca795af",
   "metadata": {},
   "outputs": [
    {
     "name": "stdout",
     "output_type": "stream",
     "text": [
      "34647 41060\n"
     ]
    },
    {
     "data": {
      "text/plain": [
       "True"
      ]
     },
     "execution_count": 12,
     "metadata": {},
     "output_type": "execute_result"
    }
   ],
   "source": [
    "# let's now break the word frequency down by class to see if what words appear most commonly in disaster tweets\n",
    "allwords_dis = []\n",
    "allwords_no_dis = []\n",
    "\n",
    "for i in range(train_df.shape[0]):\n",
    "    if train_df[\"target\"][i] == 1:\n",
    "        allwords_dis += train_df[\"no_punc\"][i]\n",
    "    elif train_df[\"target\"][i] == 0:\n",
    "        allwords_no_dis += train_df[\"no_punc\"][i]\n",
    "    else:\n",
    "        print(\"Something went wrong\")\n",
    "    \n",
    "print(len(allwords_dis), len(allwords_no_dis))\n",
    "\n",
    "# check that we haven't missed/double counted any words\n",
    "\n",
    "len(allwords_dis)+len(allwords_no_dis) == len(allwords)"
   ]
  },
  {
   "cell_type": "code",
   "execution_count": 13,
   "id": "8b6bee49",
   "metadata": {},
   "outputs": [],
   "source": [
    "all_words = []\n",
    "all_freq = []\n",
    "for word, freq in most_freq:\n",
    "    all_words.append(word)\n",
    "    all_freq.append(freq)\n",
    "\n",
    "dis_words = []\n",
    "dis_freq = []\n",
    "for word, freq in Counter(allwords_dis).most_common(20):\n",
    "    dis_words.append(word)\n",
    "    dis_freq.append(freq)\n",
    "\n",
    "no_dis_words = []\n",
    "no_dis_freq = []\n",
    "for word, freq in Counter(allwords_no_dis).most_common(20):\n",
    "    no_dis_words.append(word)\n",
    "    no_dis_freq.append(freq)"
   ]
  },
  {
   "cell_type": "code",
   "execution_count": 14,
   "id": "bafe01a4",
   "metadata": {},
   "outputs": [
    {
     "data": {
      "image/png": "[encoded data removed]",
      "text/plain": [
       "<Figure size 1080x360 with 3 Axes>"
      ]
     },
     "metadata": {
      "needs_background": "light"
     },
     "output_type": "display_data"
    }
   ],
   "source": [
    "# make bar charts of word frequency by class\n",
    "\n",
    "fig, ax = plt.subplots(1, 3, figsize=(15,5), constrained_layout=True, sharey=True)\n",
    "\n",
    "ax[0].bar(all_words, all_freq)\n",
    "ax[0].tick_params(axis='x', labelrotation=90)\n",
    "ax[0].xaxis.set_tick_params(labelsize=12)\n",
    "ax[0].set_ylabel('Frequency', fontsize='x-large')\n",
    "ax[0].set_xlabel('Word', fontsize='x-large')\n",
    "ax[0].set_title('Most Common Words - All', fontsize='xx-large')\n",
    "\n",
    "ax[1].bar(dis_words, dis_freq)\n",
    "ax[1].tick_params(axis='x', labelrotation=90)\n",
    "ax[1].xaxis.set_tick_params(labelsize=12)\n",
    "ax[1].set_xlabel('Word', fontsize='x-large')\n",
    "ax[1].set_title('Most Common Words - Disaster', fontsize='xx-large')\n",
    "\n",
    "ax[2].bar(no_dis_words, no_dis_freq)\n",
    "ax[2].tick_params(axis='x', labelrotation=90)\n",
    "ax[2].xaxis.set_tick_params(labelsize=12)\n",
    "ax[2].set_xlabel('Word', fontsize='x-large')\n",
    "ax[2].set_title('Most Common Words - Non-disaster', fontsize='xx-large');"
   ]
  },
  {
   "cell_type": "markdown",
   "id": "2a6eab63",
   "metadata": {},
   "source": [
    "We can see a very clear separation between the most commonly used words in disaster tweets vs those not about disasters. By adding words to our list of `stopwords`, such as 'like', 'im', 'amp', etc., we would likely see an even greater visual separation between the words most commonly used in out two classes. \n",
    "\n",
    "As we would have naïvely expected, words directly associated with disasters, like 'fire', 'emergency', and 'disaster' show up more frequently in tweets about disasters. Somewhat surprising, though, is that words like 'news', 'breaking', and 'via' also show up more frequently in tweets about disasters. With hindsight, this makes sense, as disasters are likely to be news-worthy events. \n",
    "\n",
    "With our EDA done, let's shift our attention to building a model that can reliably classify a tweet as being about a disaster or not. "
   ]
  },
  {
   "cell_type": "markdown",
   "id": "977503ef",
   "metadata": {},
   "source": [
    "# Constructing a Supervised Classifier"
   ]
  },
  {
   "cell_type": "code",
   "execution_count": 106,
   "id": "5a0d0a61",
   "metadata": {},
   "outputs": [
    {
     "name": "stdout",
     "output_type": "stream",
     "text": [
      "25\n",
      "7613\n"
     ]
    }
   ],
   "source": [
    "# Let's use an LSTM model with a few dropout layers to avoid overfitting\n",
    "\n",
    "#max_len = max(max(train_df[\"no_punc\"].str.len()),max(test_df[\"no_punc\"].str.len()))\n",
    "max_len = max(train_df[\"no_punc\"].str.len())\n",
    "print(max_len)\n",
    "\n",
    "# start by tokenizing the text\n",
    "max_features = 3000\n",
    "tokenizer = tf.keras.preprocessing.text.Tokenizer(num_words=max_features,char_level=True,lower=True)\n",
    "tokenizer.fit_on_texts(train_df[\"no_punc\"].values)\n",
    "\n",
    "# convert text to sequences\n",
    "\n",
    "train_sequences = tokenizer.texts_to_sequences(train_df[\"no_punc\"].values)\n",
    "#test_sequences = tokenizer.texts_to_sequences(test_df[\"no_\"].values)\n",
    "\n",
    "print(len(train_sequences))\n",
    "#print(len(test_sequences))"
   ]
  },
  {
   "cell_type": "code",
   "execution_count": 107,
   "id": "0cbaf973",
   "metadata": {},
   "outputs": [
    {
     "name": "stdout",
     "output_type": "stream",
     "text": [
      "(7613, 20)\n"
     ]
    }
   ],
   "source": [
    "# start by preprocessing our text data to make sure every tweet is zero padded to be the same length as the longest\n",
    "# tweet in our training or testing set\n",
    "\n",
    "train_sequences = tf.keras.preprocessing.sequence.pad_sequences(train_sequences, 20)\n",
    "print(train_sequences.shape)"
   ]
  },
  {
   "cell_type": "code",
   "execution_count": 116,
   "id": "30432765",
   "metadata": {},
   "outputs": [
    {
     "name": "stdout",
     "output_type": "stream",
     "text": [
      "WARNING:tensorflow:Layer lstm_37 will not use cuDNN kernels since it doesn't meet the criteria. It will use a generic GPU kernel as fallback when running on GPU.\n",
      "Model: \"sequential_22\"\n",
      "_________________________________________________________________\n",
      "Layer (type)                 Output Shape              Param #   \n",
      "=================================================================\n",
      "embedding_22 (Embedding)     (None, 25, 32)            96000     \n",
      "_________________________________________________________________\n",
      "dropout_32 (Dropout)         (None, 25, 32)            0         \n",
      "_________________________________________________________________\n",
      "lstm_37 (LSTM)               (None, 32)                8320      \n",
      "_________________________________________________________________\n",
      "dense_22 (Dense)             (None, 1)                 33        \n",
      "=================================================================\n",
      "Total params: 104,353\n",
      "Trainable params: 104,353\n",
      "Non-trainable params: 0\n",
      "_________________________________________________________________\n"
     ]
    }
   ],
   "source": [
    "# create and compile the model\n",
    "\n",
    "es = tf.keras.callbacks.EarlyStopping(monitor='loss',patience=10,verbose=1,min_delta=1e-4)\n",
    "reduce_lr = tf.keras.callbacks.ReduceLROnPlateau(monitor='loss',patience=5,factor=0.3,verbose=1,min_delta=1e-3)\n",
    "\n",
    "emb_dim = 32\n",
    "lstm_dim = 32\n",
    "\n",
    "classifier = tf.keras.models.Sequential([\n",
    "    tf.keras.layers.Embedding(max_features, emb_dim, input_length=max_len),\n",
    "    tf.keras.layers.Dropout(0.2),\n",
    "    #tf.keras.layers.LSTM(lstm_dim, dropout=0.2, recurrent_dropout=0.4, return_sequences=True),\n",
    "    #tf.keras.layers.Dropout(0.1),\n",
    "    tf.keras.layers.LSTM(lstm_dim, dropout=0.2, recurrent_dropout=0.4),\n",
    "    #tf.keras.layers.Dropout(0.1),\n",
    "    tf.keras.layers.Dense(1, activation='sigmoid')\n",
    "])\n",
    "\n",
    "classifier.compile(loss='binary_crossentropy',\n",
    "                   optimizer=tf.keras.optimizers.Adam(2e-3),\n",
    "                   metrics=['accuracy'])\n",
    "\n",
    "classifier.summary()"
   ]
  },
  {
   "cell_type": "code",
   "execution_count": 109,
   "id": "1b9b3d40",
   "metadata": {},
   "outputs": [],
   "source": [
    "# create artificial training and testing data since the true test set labels are unavailable\n",
    "\n",
    "X_train, X_test, Y_train, Y_test = sklearn.model_selection.train_test_split(train_sequences,\n",
    "                                                                            np.array(train_df[\"target\"]),\n",
    "                                                                            test_size=0.2, shuffle=True)"
   ]
  },
  {
   "cell_type": "code",
   "execution_count": null,
   "id": "e9bf4b05",
   "metadata": {},
   "outputs": [
    {
     "name": "stdout",
     "output_type": "stream",
     "text": [
      "Epoch 1/100\n",
      "WARNING:tensorflow:Model was constructed with shape (None, 25) for input KerasTensor(type_spec=TensorSpec(shape=(None, 25), dtype=tf.float32, name='embedding_22_input'), name='embedding_22_input', description=\"created by layer 'embedding_22_input'\"), but it was called on an input with incompatible shape (None, 20).\n",
      "WARNING:tensorflow:Model was constructed with shape (None, 25) for input KerasTensor(type_spec=TensorSpec(shape=(None, 25), dtype=tf.float32, name='embedding_22_input'), name='embedding_22_input', description=\"created by layer 'embedding_22_input'\"), but it was called on an input with incompatible shape (None, 20).\n"
     ]
    },
    {
     "name": "stderr",
     "output_type": "stream",
     "text": [
      "2023-07-18 11:57:47.191704: I tensorflow/core/grappler/optimizers/custom_graph_optimizer_registry.cc:112] Plugin optimizer for device_type GPU is enabled.\n"
     ]
    },
    {
     "name": "stdout",
     "output_type": "stream",
     "text": [
      "48/48 [==============================] - ETA: 0s - loss: 0.6514 - accuracy: 0.6187WARNING:tensorflow:Model was constructed with shape (None, 25) for input KerasTensor(type_spec=TensorSpec(shape=(None, 25), dtype=tf.float32, name='embedding_22_input'), name='embedding_22_input', description=\"created by layer 'embedding_22_input'\"), but it was called on an input with incompatible shape (None, 20).\n"
     ]
    },
    {
     "name": "stderr",
     "output_type": "stream",
     "text": [
      "2023-07-18 11:58:33.540026: I tensorflow/core/grappler/optimizers/custom_graph_optimizer_registry.cc:112] Plugin optimizer for device_type GPU is enabled.\n"
     ]
    },
    {
     "name": "stdout",
     "output_type": "stream",
     "text": [
      "48/48 [==============================] - 48s 973ms/step - loss: 0.6514 - accuracy: 0.6187 - val_loss: 0.5725 - val_accuracy: 0.7787\n",
      "Epoch 2/100\n",
      "48/48 [==============================] - 43s 900ms/step - loss: 0.4448 - accuracy: 0.8131 - val_loss: 0.4408 - val_accuracy: 0.8063\n",
      "Epoch 3/100\n",
      "48/48 [==============================] - 44s 908ms/step - loss: 0.3459 - accuracy: 0.8539 - val_loss: 0.4637 - val_accuracy: 0.7932\n",
      "Epoch 4/100\n",
      "48/48 [==============================] - 44s 913ms/step - loss: 0.3005 - accuracy: 0.8777 - val_loss: 0.4896 - val_accuracy: 0.7886\n",
      "Epoch 5/100\n",
      "48/48 [==============================] - 46s 950ms/step - loss: 0.2703 - accuracy: 0.8900 - val_loss: 0.5328 - val_accuracy: 0.7794\n",
      "Epoch 6/100\n",
      "48/48 [==============================] - 43s 887ms/step - loss: 0.2470 - accuracy: 0.8992 - val_loss: 0.5864 - val_accuracy: 0.7722\n",
      "Epoch 7/100\n",
      "48/48 [==============================] - 44s 923ms/step - loss: 0.2255 - accuracy: 0.9099 - val_loss: 0.6525 - val_accuracy: 0.7748\n",
      "Epoch 8/100\n",
      "48/48 [==============================] - 46s 959ms/step - loss: 0.2136 - accuracy: 0.9149 - val_loss: 0.6943 - val_accuracy: 0.7754\n",
      "Epoch 9/100\n",
      "48/48 [==============================] - 48s 995ms/step - loss: 0.1959 - accuracy: 0.9245 - val_loss: 0.7496 - val_accuracy: 0.7603\n",
      "Epoch 10/100\n",
      "33/48 [===================>..........] - ETA: 13s - loss: 0.1828 - accuracy: 0.9254"
     ]
    }
   ],
   "source": [
    "# train the model\n",
    "\n",
    "classifier.fit(X_train, Y_train, batch_size=128, validation_data=((X_test, Y_test)), \n",
    "               callbacks=[reduce_lr, es], epochs=100, verbose=1)"
   ]
  },
  {
   "cell_type": "code",
   "execution_count": 113,
   "id": "929fc72a",
   "metadata": {},
   "outputs": [
    {
     "data": {
      "image/png": "[encoded data removed]",
      "text/plain": [
       "<Figure size 432x288 with 1 Axes>"
      ]
     },
     "metadata": {
      "needs_background": "light"
     },
     "output_type": "display_data"
    }
   ],
   "source": [
    "# Let's do a quick check to see if we're overfitting (though from the val_loss alone it looks like we are)\n",
    "\n",
    "fig, ax = plt.subplots(1, 1, constrained_layout=True)\n",
    "\n",
    "ax.plot(classifier.history.history['loss'], label='Training Set')\n",
    "ax.plot(classifier.history.history['val_loss'], label='Validation Set')\n",
    "ax.set_xlabel('Epoch')\n",
    "ax.set_ylabel('Loss')\n",
    "ax.legend(loc='upper right', fontsize='large');"
   ]
  },
  {
   "cell_type": "code",
   "execution_count": 114,
   "id": "ff860b78",
   "metadata": {},
   "outputs": [
    {
     "name": "stdout",
     "output_type": "stream",
     "text": [
      "WARNING:tensorflow:Model was constructed with shape (None, 25) for input KerasTensor(type_spec=TensorSpec(shape=(None, 25), dtype=tf.float32, name='embedding_21_input'), name='embedding_21_input', description=\"created by layer 'embedding_21_input'\"), but it was called on an input with incompatible shape (None, 20).\n"
     ]
    },
    {
     "name": "stderr",
     "output_type": "stream",
     "text": [
      "2023-07-18 11:53:50.417891: I tensorflow/core/grappler/optimizers/custom_graph_optimizer_registry.cc:112] Plugin optimizer for device_type GPU is enabled.\n",
      "2023-07-18 11:53:50.451751: I tensorflow/core/grappler/optimizers/custom_graph_optimizer_registry.cc:112] Plugin optimizer for device_type GPU is enabled.\n"
     ]
    },
    {
     "data": {
      "image/png": "[encoded data removed]",
      "text/plain": [
       "<Figure size 288x288 with 1 Axes>"
      ]
     },
     "metadata": {
      "needs_background": "light"
     },
     "output_type": "display_data"
    }
   ],
   "source": [
    "# compute some metrics with our test set\n",
    "y_pred = classifier.predict(X_test).round()\n",
    "\n",
    "fpr, tpr, thresh = sklearn.metrics.roc_curve(Y_test, y_pred)\n",
    "\n",
    "auc = sklearn.metrics.roc_auc_score(Y_test, y_pred)\n",
    "\n",
    "f1_score = sklearn.metrics.f1_score(Y_test, y_pred)\n",
    "\n",
    "fig, ax = plt.subplots(1, 1, figsize=(4,4), constrained_layout=True)\n",
    "\n",
    "ax.plot(fpr, tpr, color='tab:blue')\n",
    "ax.plot([0,1],[0,1], 'k--')\n",
    "ax.plot([],[], color='tab:blue', label=r'AUC: {:.3f}, $F_1$: {:.3f}'.format(auc, f1_score))\n",
    "ax.legend(loc='best', fontsize='large')\n",
    "ax.set_xlabel('False Positive Rate', fontsize='large')\n",
    "ax.set_ylabel('True Positive Rate', fontsize='large')\n",
    "ax.set_xlim(0,1)\n",
    "ax.set_ylim(0,1)\n",
    "ax.set_xticks([0.00, 0.25, 0.50, 0.75, 1.00])\n",
    "ax.set_yticks([0.00, 0.25, 0.50, 0.75, 1.00])\n",
    "ax.grid();"
   ]
  },
  {
   "cell_type": "code",
   "execution_count": 115,
   "id": "074e8425",
   "metadata": {},
   "outputs": [
    {
     "name": "stdout",
     "output_type": "stream",
     "text": [
      "              precision    recall  f1-score   support\n",
      "\n",
      "           0       0.73      0.76      0.74       870\n",
      "           1       0.66      0.62      0.64       653\n",
      "\n",
      "    accuracy                           0.70      1523\n",
      "   macro avg       0.69      0.69      0.69      1523\n",
      "weighted avg       0.70      0.70      0.70      1523\n",
      "\n"
     ]
    }
   ],
   "source": [
    "print(sklearn.metrics.classification_report(Y_test, y_pred))"
   ]
  }
 ],
 "metadata": {
  "kernelspec": {
   "display_name": "Python 3.9 (tensorflow)",
   "language": "python",
   "name": "tensorflow"
  },
  "language_info": {
   "codemirror_mode": {
    "name": "ipython",
    "version": 3
   },
   "file_extension": ".py",
   "mimetype": "text/x-python",
   "name": "python",
   "nbconvert_exporter": "python",
   "pygments_lexer": "ipython3",
   "version": "3.9.10"
  }
 },
 "nbformat": 4,
 "nbformat_minor": 5
}
